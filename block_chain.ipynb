{
 "cells": [
  {
   "cell_type": "code",
   "execution_count": 4,
   "metadata": {
    "collapsed": true
   },
   "outputs": [],
   "source": [
    "import pickle"
   ]
  },
  {
   "cell_type": "code",
   "execution_count": 5,
   "metadata": {
    "collapsed": true
   },
   "outputs": [],
   "source": [
    "import hashlib"
   ]
  },
  {
   "cell_type": "code",
   "execution_count": 6,
   "metadata": {
    "collapsed": false
   },
   "outputs": [],
   "source": [
    "m = hashlib.sha256()"
   ]
  },
  {
   "cell_type": "code",
   "execution_count": 8,
   "metadata": {
    "collapsed": false
   },
   "outputs": [
    {
     "data": {
      "text/plain": [
       "'524857d0148721c24e3e7795e19ade0cdcf49f2a4dfbef2f1575d1208fa8c54f'"
      ]
     },
     "execution_count": 8,
     "metadata": {},
     "output_type": "execute_result"
    }
   ],
   "source": [
    "m.update(b'hello world')\n",
    "m.digest()\n",
    "m.hexdigest()"
   ]
  },
  {
   "cell_type": "code",
   "execution_count": 9,
   "metadata": {
    "collapsed": true
   },
   "outputs": [],
   "source": [
    "s = 'transactionssssss'"
   ]
  },
  {
   "cell_type": "code",
   "execution_count": 10,
   "metadata": {
    "collapsed": true
   },
   "outputs": [],
   "source": [
    "byte_string = str.encode(s)"
   ]
  },
  {
   "cell_type": "code",
   "execution_count": 12,
   "metadata": {
    "collapsed": false
   },
   "outputs": [
    {
     "data": {
      "text/plain": [
       "'63c2bd8ad743ac8cb716ea21e1ea21595d61ef659338a94f814280667427557f'"
      ]
     },
     "execution_count": 12,
     "metadata": {},
     "output_type": "execute_result"
    }
   ],
   "source": [
    "n = hashlib.sha256()\n",
    "n.update(byte_string)\n",
    "n.hexdigest()"
   ]
  },
  {
   "cell_type": "code",
   "execution_count": 14,
   "metadata": {
    "collapsed": false
   },
   "outputs": [],
   "source": [
    "def hash_generater(string):\n",
    "    obj = hashlib.sha256()\n",
    "    data = str.encode(string)\n",
    "    obj.update(data)\n",
    "    return obj.hexdigest()\n",
    "    "
   ]
  },
  {
   "cell_type": "code",
   "execution_count": 15,
   "metadata": {
    "collapsed": false
   },
   "outputs": [
    {
     "data": {
      "text/plain": [
       "'d20b3a5ba71fa5b07b95b6b34ab8ecf3c9f8dc0013ea417b5e65c4cb6d1067f5'"
      ]
     },
     "execution_count": 15,
     "metadata": {},
     "output_type": "execute_result"
    }
   ],
   "source": [
    "hash_generater('Changed in version 3.4: The name attribute has been present in CPython since its inception, but until Python 3.4 was not formally specified, so may not exist on some platforms.')"
   ]
  },
  {
   "cell_type": "code",
   "execution_count": 16,
   "metadata": {
    "collapsed": true
   },
   "outputs": [],
   "source": [
    "def hash_machine(data):\n",
    "    import pickle\n",
    "    import hashlib\n",
    "    obj = hashlib.sha256()\n",
    "    obj.update(pickle.dumps(data))\n",
    "    return obj.hexdigest()"
   ]
  },
  {
   "cell_type": "code",
   "execution_count": 17,
   "metadata": {
    "collapsed": true
   },
   "outputs": [],
   "source": [
    "data1 = {\n",
    "    'trans':[\n",
    "        {\n",
    "            'from': 'A',\n",
    "            'to': 'B',\n",
    "            'amount': 1000,\n",
    "            'message': ''\n",
    "        },\n",
    "                {\n",
    "            'from': 'A',\n",
    "            'to': 'B',\n",
    "            'amount': 1000,\n",
    "            'message': '2nd trans'\n",
    "        },\n",
    "                {\n",
    "            'from': 'A',\n",
    "            'to': 'C',\n",
    "            'amount': 10,\n",
    "            'message': ''\n",
    "        },\n",
    "                {\n",
    "            'from': 'B',\n",
    "            'to': 'A',\n",
    "            'amount': 500,\n",
    "            'message': ''\n",
    "        },\n",
    "    ]\n",
    "}"
   ]
  },
  {
   "cell_type": "code",
   "execution_count": 18,
   "metadata": {
    "collapsed": false
   },
   "outputs": [
    {
     "data": {
      "text/plain": [
       "'76e1dceb8ac1f5f4164e1539b722355475b9db0142efd091e04551cd33c3f355'"
      ]
     },
     "execution_count": 18,
     "metadata": {},
     "output_type": "execute_result"
    }
   ],
   "source": [
    "hash_machine(data1)"
   ]
  },
  {
   "cell_type": "code",
   "execution_count": 20,
   "metadata": {
    "collapsed": false
   },
   "outputs": [],
   "source": [
    "block = {\n",
    "    'trans':[\n",
    "        {\n",
    "            'from': 'A',\n",
    "            'to': 'B',\n",
    "            'amount': 1000,\n",
    "            'message': ''\n",
    "        },\n",
    "                {\n",
    "            'from': 'A',\n",
    "            'to': 'B',\n",
    "            'amount': 1000,\n",
    "            'message': '2nd trans'\n",
    "        },\n",
    "                {\n",
    "            'from': 'A',\n",
    "            'to': 'C',\n",
    "            'amount': 10,\n",
    "            'message': ''\n",
    "        },\n",
    "                {\n",
    "            'from': 'B',\n",
    "            'to': 'A',\n",
    "            'amount': 500,\n",
    "            'message': ''\n",
    "        },\n",
    "    ],\n",
    "    'last_block': 'd20b3a5ba71fa5b07b95b6b34ab8ecf3c9f8dc0013ea417b5e65c4cb6d1067f5',\n",
    "    'nonce': 0\n",
    "}"
   ]
  },
  {
   "cell_type": "code",
   "execution_count": 22,
   "metadata": {
    "collapsed": false
   },
   "outputs": [
    {
     "data": {
      "text/plain": [
       "'2ec1a4999e857d425a13e43e9026d00eedcd5d4e82050590d1e73cc17cae98f0'"
      ]
     },
     "execution_count": 22,
     "metadata": {},
     "output_type": "execute_result"
    }
   ],
   "source": [
    "hash_machine(block)"
   ]
  },
  {
   "cell_type": "code",
   "execution_count": null,
   "metadata": {
    "collapsed": true
   },
   "outputs": [],
   "source": []
  }
 ],
 "metadata": {
  "anaconda-cloud": {},
  "kernelspec": {
   "display_name": "Python [default]",
   "language": "python",
   "name": "python3"
  },
  "language_info": {
   "codemirror_mode": {
    "name": "ipython",
    "version": 3
   },
   "file_extension": ".py",
   "mimetype": "text/x-python",
   "name": "python",
   "nbconvert_exporter": "python",
   "pygments_lexer": "ipython3",
   "version": "3.5.2"
  }
 },
 "nbformat": 4,
 "nbformat_minor": 0
}
